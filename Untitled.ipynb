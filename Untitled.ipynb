{
 "cells": [
  {
   "cell_type": "code",
   "execution_count": 1,
   "metadata": {
    "collapsed": true
   },
   "outputs": [],
   "source": [
    "import mysql.connector\n",
    "import json"
   ]
  },
  {
   "cell_type": "code",
   "execution_count": null,
   "metadata": {
    "collapsed": true
   },
   "outputs": [],
   "source": []
  },
  {
   "cell_type": "code",
   "execution_count": 4,
   "metadata": {},
   "outputs": [
    {
     "name": "stdout",
     "output_type": "stream",
     "text": [
      "(1, 'revreddy92', 'Revanth', 'Reddy', 'r4v3nth')\n",
      "(2, 'jesuarasu', 'Jesu', 'Arasu', 'imtheboss')\n",
      "(3, 'jgn', 'Jeremy', 'Newton', 'jergnewt29')\n",
      "(4, 'bballsu30', 'Suraj', 'Chandrasekhar', 'testing123')\n",
      "(5, 'chefcurry', 'Stephen', 'Curry', 'shootershoot')\n",
      "(6, 'revreddy92', 'Revanth', 'Reddy', 'r4v3nth')\n",
      "(7, 'kdtrey5', 'Kevin', 'Durant', 'Dur4ntulA')\n"
     ]
    }
   ],
   "source": [
    "mydb = mysql.connector.connect(host='localhost', user=\"root\", passwd='', database='CHAT_BOT')\n",
    "mycursor = mydb.cursor()\n",
    "mycursor.execute('SELECT * FROM tblUser')\n",
    "result = mycursor.fetchall()\n",
    "for i in result:\n",
    "    print(i)"
   ]
  },
  {
   "cell_type": "code",
   "execution_count": 2,
   "metadata": {},
   "outputs": [
    {
     "ename": "NameError",
     "evalue": "name 'mycursor' is not defined",
     "output_type": "error",
     "traceback": [
      "\u001b[0;31m---------------------------------------------------------------------------\u001b[0m",
      "\u001b[0;31mNameError\u001b[0m                                 Traceback (most recent call last)",
      "\u001b[0;32m<ipython-input-2-3d897572b515>\u001b[0m in \u001b[0;36m<module>\u001b[0;34m()\u001b[0m\n\u001b[0;32m----> 1\u001b[0;31m \u001b[0mmycursor\u001b[0m\u001b[0;34m.\u001b[0m\u001b[0mexecute\u001b[0m\u001b[0;34m(\u001b[0m\u001b[0;34m'SELECT u.UserFName, u.UserLName from tblUser u WHERE u.UserUserName =\"jesuarasu\" and u.pass = \"imtheboss\"'\u001b[0m\u001b[0;34m)\u001b[0m\u001b[0;34m\u001b[0m\u001b[0m\n\u001b[0m\u001b[1;32m      2\u001b[0m \u001b[0mresult2\u001b[0m \u001b[0;34m=\u001b[0m \u001b[0mmycursor\u001b[0m\u001b[0;34m.\u001b[0m\u001b[0mfetchall\u001b[0m\u001b[0;34m(\u001b[0m\u001b[0;34m)\u001b[0m\u001b[0;34m\u001b[0m\u001b[0m\n\u001b[1;32m      3\u001b[0m \u001b[0;32mfor\u001b[0m \u001b[0mi\u001b[0m \u001b[0;32min\u001b[0m \u001b[0mresult2\u001b[0m\u001b[0;34m:\u001b[0m\u001b[0;34m\u001b[0m\u001b[0m\n\u001b[1;32m      4\u001b[0m     \u001b[0mprint\u001b[0m\u001b[0;34m(\u001b[0m\u001b[0;34m' '\u001b[0m\u001b[0;34m.\u001b[0m\u001b[0mjoin\u001b[0m\u001b[0;34m(\u001b[0m\u001b[0mi\u001b[0m\u001b[0;34m)\u001b[0m\u001b[0;34m)\u001b[0m\u001b[0;34m\u001b[0m\u001b[0m\n",
      "\u001b[0;31mNameError\u001b[0m: name 'mycursor' is not defined"
     ]
    }
   ],
   "source": [
    "mycursor.execute('SELECT u.UserFName, u.UserLName from tblUser u WHERE u.UserUserName =\"jesuarasu\" and u.pass = \"imtheboss\"')\n",
    "result2 = mycursor.fetchall()\n",
    "for i in result2:\n",
    "    print(' '.join(i))"
   ]
  },
  {
   "cell_type": "code",
   "execution_count": 8,
   "metadata": {},
   "outputs": [
    {
     "data": {
      "text/plain": [
       "{'Behavior': {'Business Conduct': ['Business Conduct',\n",
       "   'Confidentiality',\n",
       "   'Enforcement',\n",
       "   'Standard of Conduct'],\n",
       "  'Outside of Work': ['Conflicts of Interest', 'Moonlighting', 'Entertaining'],\n",
       "  'Professionality': ['Employee Dress',\n",
       "   'Change of Address',\n",
       "   'Act Professionally',\n",
       "   'Equal Opportunity']},\n",
       " 'Benefits': {'Medical Benefits': ['Medical Plan Choices',\n",
       "   'Continuing Health Insurance',\n",
       "   'Continuation of Coverage'],\n",
       "  'Other Benefits': ['Employee Benefits Plan',\n",
       "   'PTO and Sick Leave',\n",
       "   'Retirement Plan',\n",
       "   'Visa Sponsorship']},\n",
       " 'Disciplinary': {'Drugs And Violence': ['Fighting',\n",
       "   'Drugs',\n",
       "   'Threatening',\n",
       "   'Treatment & Rehab'],\n",
       "  'Other Disciplinary Issues': ['Anti-Discrimination',\n",
       "   'Anti-Harassment',\n",
       "   'Pranks',\n",
       "   'Discipline']},\n",
       " 'General': {'Company Guidelines': ['PTG Property',\n",
       "   'PTG Social',\n",
       "   'Internet Use',\n",
       "   'Software Use'],\n",
       "  'Hours': ['Holidays',\n",
       "   'Hours of Work',\n",
       "   'Punctuality and Attendance',\n",
       "   'Voluntary Termination'],\n",
       "  'Introduction': ['Employee Handbook',\n",
       "   'Your Handbook',\n",
       "   'Welcome to PTG',\n",
       "   'Email'],\n",
       "  'Work': ['Employee Referral Program',\n",
       "   'References, Work Eligibility',\n",
       "   'Your Personnel File']},\n",
       " 'Salary': {'Pay': ['Final Paychecks', 'Salary Pay', 'Payday', 'Overtime'],\n",
       "  'Refunds and Deductions': ['Expense Reimbursements',\n",
       "   'Payroll Deductions',\n",
       "   'Severance Pay',\n",
       "   'Wage Garnishments']}}"
      ]
     },
     "execution_count": 8,
     "metadata": {},
     "output_type": "execute_result"
    }
   ],
   "source": [
    "j = json.loads(open('categories.json').read())\n",
    "\n",
    "\n",
    "\n",
    "j"
   ]
  },
  {
   "cell_type": "code",
   "execution_count": 10,
   "metadata": {},
   "outputs": [
    {
     "data": {
      "text/plain": [
       "['Disciplinary', 'Behavior', 'Benefits', 'General', 'Salary']"
      ]
     },
     "execution_count": 10,
     "metadata": {},
     "output_type": "execute_result"
    }
   ],
   "source": [
    "list(j.keys())"
   ]
  },
  {
   "cell_type": "code",
   "execution_count": 3,
   "metadata": {
    "collapsed": true
   },
   "outputs": [],
   "source": [
    "leafs = j[\"Disciplinary\"].keys()"
   ]
  },
  {
   "cell_type": "code",
   "execution_count": 5,
   "metadata": {},
   "outputs": [
    {
     "data": {
      "text/plain": [
       "dict_keys(['Drugs And Violence', 'Other Disciplinary Issues'])"
      ]
     },
     "execution_count": 5,
     "metadata": {},
     "output_type": "execute_result"
    }
   ],
   "source": [
    "leafs"
   ]
  },
  {
   "cell_type": "code",
   "execution_count": 7,
   "metadata": {},
   "outputs": [
    {
     "data": {
      "text/plain": [
       "['Fighting', 'Drugs', 'Threatening', 'Treatment & Rehab']"
      ]
     },
     "execution_count": 7,
     "metadata": {},
     "output_type": "execute_result"
    }
   ],
   "source": [
    "subs = j['Disciplinary']['Drugs And Violence']\n",
    "subs"
   ]
  },
  {
   "cell_type": "code",
   "execution_count": 9,
   "metadata": {},
   "outputs": [
    {
     "data": {
      "text/plain": [
       "'Treatment & Rehab'"
      ]
     },
     "execution_count": 9,
     "metadata": {},
     "output_type": "execute_result"
    }
   ],
   "source": [
    "j[\"disciplinary\"].keys"
   ]
  }
 ],
 "metadata": {
  "kernelspec": {
   "display_name": "Python 3",
   "language": "python",
   "name": "python3"
  },
  "language_info": {
   "codemirror_mode": {
    "name": "ipython",
    "version": 3
   },
   "file_extension": ".py",
   "mimetype": "text/x-python",
   "name": "python",
   "nbconvert_exporter": "python",
   "pygments_lexer": "ipython3",
   "version": "3.6.3"
  }
 },
 "nbformat": 4,
 "nbformat_minor": 2
}
