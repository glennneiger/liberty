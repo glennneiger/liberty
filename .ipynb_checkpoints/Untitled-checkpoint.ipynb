{
 "cells": [
  {
   "cell_type": "code",
   "execution_count": 2,
   "metadata": {
    "collapsed": true
   },
   "outputs": [],
   "source": [
    "import mysql.connector\n",
    "import json"
   ]
  },
  {
   "cell_type": "code",
   "execution_count": null,
   "metadata": {
    "collapsed": true
   },
   "outputs": [],
   "source": []
  },
  {
   "cell_type": "code",
   "execution_count": 4,
   "metadata": {},
   "outputs": [
    {
     "name": "stdout",
     "output_type": "stream",
     "text": [
      "(1, 'revreddy92', 'Revanth', 'Reddy', 'r4v3nth')\n",
      "(2, 'jesuarasu', 'Jesu', 'Arasu', 'imtheboss')\n",
      "(3, 'jgn', 'Jeremy', 'Newton', 'jergnewt29')\n",
      "(4, 'bballsu30', 'Suraj', 'Chandrasekhar', 'testing123')\n",
      "(5, 'chefcurry', 'Stephen', 'Curry', 'shootershoot')\n",
      "(6, 'revreddy92', 'Revanth', 'Reddy', 'r4v3nth')\n",
      "(7, 'kdtrey5', 'Kevin', 'Durant', 'Dur4ntulA')\n"
     ]
    }
   ],
   "source": [
    "mydb = mysql.connector.connect(host='localhost', user=\"root\", passwd='', database='CHAT_BOT')\n",
    "mycursor = mydb.cursor()\n",
    "mycursor.execute('SELECT * FROM tblUser')\n",
    "result = mycursor.fetchall()\n",
    "for i in result:\n",
    "    print(i)"
   ]
  },
  {
   "cell_type": "code",
   "execution_count": 6,
   "metadata": {},
   "outputs": [
    {
     "name": "stdout",
     "output_type": "stream",
     "text": [
      "Jesu Arasu\n"
     ]
    }
   ],
   "source": [
    "mycursor.execute('SELECT u.UserFName, u.UserLName from tblUser u WHERE u.UserUserName =\"jesuarasu\" and u.pass = \"imtheboss\"')\n",
    "result2 = mycursor.fetchall()\n",
    "for i in result2:\n",
    "    print(' '.join(i))"
   ]
  },
  {
   "cell_type": "code",
   "execution_count": 3,
   "metadata": {
    "collapsed": true
   },
   "outputs": [],
   "source": [
    "j = json.loads(open('categories.json').read())\n"
   ]
  },
  {
   "cell_type": "code",
   "execution_count": 23,
   "metadata": {},
   "outputs": [
    {
     "data": {
      "text/plain": [
       "['Fighting', 'Drugs', 'Threatening', 'Treatment & Rehab']"
      ]
     },
     "execution_count": 23,
     "metadata": {},
     "output_type": "execute_result"
    }
   ],
   "source": [
    "j[\"Disciplinary\"]['Drugs And Violence']"
   ]
  },
  {
   "cell_type": "code",
   "execution_count": 5,
   "metadata": {},
   "outputs": [
    {
     "data": {
      "text/plain": [
       "dict_keys(['Drugs And Violence', 'Other Disciplinary Issues'])"
      ]
     },
     "execution_count": 5,
     "metadata": {},
     "output_type": "execute_result"
    }
   ],
   "source": [
    "j[\"Disciplinary\"].keys()"
   ]
  },
  {
   "cell_type": "code",
   "execution_count": null,
   "metadata": {
    "collapsed": true
   },
   "outputs": [],
   "source": []
  },
  {
   "cell_type": "code",
   "execution_count": null,
   "metadata": {
    "collapsed": true
   },
   "outputs": [],
   "source": []
  }
 ],
 "metadata": {
  "kernelspec": {
   "display_name": "Python 3",
   "language": "python",
   "name": "python3"
  },
  "language_info": {
   "codemirror_mode": {
    "name": "ipython",
    "version": 3
   },
   "file_extension": ".py",
   "mimetype": "text/x-python",
   "name": "python",
   "nbconvert_exporter": "python",
   "pygments_lexer": "ipython3",
   "version": "3.6.3"
  }
 },
 "nbformat": 4,
 "nbformat_minor": 2
}
